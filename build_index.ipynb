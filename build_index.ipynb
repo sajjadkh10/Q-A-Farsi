{
 "cells": [
  {
   "cell_type": "code",
   "execution_count": 2,
   "metadata": {
    "collapsed": true,
    "ExecuteTime": {
     "end_time": "2025-08-07T06:44:53.687102200Z",
     "start_time": "2025-08-07T06:44:44.881921800Z"
    }
   },
   "outputs": [
    {
     "name": "stdout",
     "output_type": "stream",
     "text": [
      "تعداد سوالات بارگیری شده: 53\n"
     ]
    },
    {
     "name": "stderr",
     "output_type": "stream",
     "text": [
      "D:\\PycharmProj\\QnA-Farsi\\venv\\lib\\site-packages\\torch\\nn\\modules\\module.py:1762: FutureWarning: `encoder_attention_mask` is deprecated and will be removed in version 4.55.0 for `BertSdpaSelfAttention.forward`.\n",
      "  return forward_call(*args, **kwargs)\n"
     ]
    },
    {
     "name": "stdout",
     "output_type": "stream",
     "text": [
      "تعداد embedding های ایجاد شده: 53\n",
      "ایندکس با موفقیت ساخته و در D:\\PycharmProj\\QnA-Farsi\\index\\faiss_index.bin ذخیره شد\n"
     ]
    }
   ],
   "source": [
    "import pandas as pd\n",
    "import numpy as np\n",
    "import faiss\n",
    "from sentence_transformers import SentenceTransformer\n",
    "from app.utils import normalize_persian\n",
    "from app.config import *\n",
    "import os\n",
    "\n",
    "def build_index():\n",
    "    # ایجاد دایرکتوری‌های مورد نیاز\n",
    "    os.makedirs(os.path.dirname(INDEX_PATH), exist_ok=True)\n",
    "    os.makedirs(os.path.dirname(EMBEDDING_PATH), exist_ok=True)\n",
    "\n",
    "    try:\n",
    "        xls = pd.read_excel(DATA_PATH, engine='openpyxl')\n",
    "        questions = xls[\"Q\"].apply(normalize_persian).tolist()\n",
    "        print(f\"تعداد سوالات بارگیری شده: {len(questions)}\")\n",
    "    except Exception as e:\n",
    "        print(f\"خطا در خواندن فایل داده: {str(e)}\")\n",
    "        return\n",
    "\n",
    "    try:\n",
    "        model = SentenceTransformer(EMBEDDING_MODEL)\n",
    "        embeddings = model.encode(questions, convert_to_numpy=True)\n",
    "        np.save(EMBEDDING_PATH, embeddings)\n",
    "        print(f\"تعداد embedding های ایجاد شده: {embeddings.shape[0]}\")\n",
    "    except Exception as e:\n",
    "        print(f\"خطا در ایجاد embedding: {str(e)}\")\n",
    "        return\n",
    "\n",
    "    try:\n",
    "        dim = embeddings.shape[1]\n",
    "        index = faiss.IndexFlatIP(dim)\n",
    "        index.add(embeddings)\n",
    "        faiss.write_index(index, INDEX_PATH)\n",
    "        print(f\"ایندکس با موفقیت ساخته و در {INDEX_PATH} ذخیره شد\")\n",
    "    except Exception as e:\n",
    "        print(f\"خطا در ساخت ایندکس: {str(e)}\")\n",
    "\n",
    "if __name__ == \"__main__\":\n",
    "    build_index()"
   ]
  },
  {
   "cell_type": "code",
   "execution_count": null,
   "outputs": [],
   "source": [],
   "metadata": {
    "collapsed": false
   }
  }
 ],
 "metadata": {
  "kernelspec": {
   "display_name": "Python 3",
   "language": "python",
   "name": "python3"
  },
  "language_info": {
   "codemirror_mode": {
    "name": "ipython",
    "version": 2
   },
   "file_extension": ".py",
   "mimetype": "text/x-python",
   "name": "python",
   "nbconvert_exporter": "python",
   "pygments_lexer": "ipython2",
   "version": "2.7.6"
  }
 },
 "nbformat": 4,
 "nbformat_minor": 0
}
